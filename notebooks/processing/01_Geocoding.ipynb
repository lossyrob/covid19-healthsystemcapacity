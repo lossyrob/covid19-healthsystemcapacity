{
 "cells": [
  {
   "cell_type": "code",
   "execution_count": null,
   "metadata": {},
   "outputs": [],
   "source": [
    "%matplotlib inline"
   ]
  },
  {
   "cell_type": "code",
   "execution_count": null,
   "metadata": {},
   "outputs": [],
   "source": [
    "import json\n",
    "import os\n",
    "from copy import copy\n",
    "from functools import partial\n",
    "from os.path import basename, join\n",
    "from subprocess import call\n",
    "from urllib.request import urlopen\n",
    "\n",
    "import pyproj\n",
    "import requests\n",
    "\n",
    "import numpy as np\n",
    "import geopandas as gpd\n",
    "import pandas as pd\n",
    "import us\n",
    "from shapely.geometry import LineString, Point, shape\n",
    "from shapely.ops import transform\n",
    "\n",
    "from covidcaremap.data import external_data_path, processed_data_path"
   ]
  },
  {
   "cell_type": "markdown",
   "metadata": {},
   "source": [
    "HCRIS facilities are geocoded using the [Google Maps](https://developers.google.com/maps/documentation/geocoding/start) and [Mapbox](https://docs.mapbox.com/api/search/) geocoding APIs. Google Maps is the primary source while Mapbox is used as a fallback option. We validate the geocoding results by checking their spatial overlap with administrative regions (states, counties, zip codes) that they are expected to fall into. We use three different level because of underlying inaccuracies in the HCRIS data.\n",
    "\n",
    "Geocoding steps:\n",
    "- Construct a query based on address info in the HCRIS record\n",
    "- Find the geometries that the output point is expected to fall into based on the HCRIS record(state, county, zip code)\n",
    "- Geocode using the Google Maps API\n",
    "- If the point falls into the expected County or Zip Code, proceed, otherwise check it against its expected state geometry.\n",
    "- Track the source of confirmation for each facility so that we can manually inspect the results that were confirmed at the higher geographic level (i.e. state)"
   ]
  },
  {
   "cell_type": "markdown",
   "metadata": {},
   "source": [
    "# Datasets"
   ]
  },
  {
   "cell_type": "markdown",
   "metadata": {},
   "source": [
    "*states geodataframe*"
   ]
  },
  {
   "cell_type": "code",
   "execution_count": null,
   "metadata": {},
   "outputs": [],
   "source": [
    "states = gpd.read_file('https://gist.githubusercontent.com/simonkassel/d091fc86253b65c68bb644443c74f366/raw/001b6ad8232e2ecfdc5fbd46a5ef8f2a9642e94d/us_states.geojson')\n",
    "states.rename(columns={'NAME': 'ST_NAME', 'abbr': 'ST_ABBR', 'STATEFP':'STATE_FP'}, inplace=True)\n",
    "states['ST_NAME'] = states['ST_NAME'].apply(lambda x: x.upper())"
   ]
  },
  {
   "cell_type": "markdown",
   "metadata": {},
   "source": [
    "*counties geodataframe*"
   ]
  },
  {
   "cell_type": "code",
   "execution_count": null,
   "metadata": {},
   "outputs": [],
   "source": [
    "def gdf_from_geojson(geojson, crs='epsg:4326'):\n",
    "    \"\"\"Convert a GeoJSON dict to GeoDataFrame\"\"\"\n",
    "    def _f(f):\n",
    "        f['properties']['geometry'] = shape(f['geometry'])\n",
    "        return f['properties']\n",
    "    \n",
    "    return gpd.GeoDataFrame([_f(f) for f in geojson['features']], crs=crs)\n",
    "\n",
    "fips_to_abbr = {st.fips: st.abbr for st in us.states.STATES_AND_TERRITORIES if st.fips}"
   ]
  },
  {
   "cell_type": "code",
   "execution_count": null,
   "metadata": {},
   "outputs": [],
   "source": [
    "with urlopen(\"https://eric.clst.org/assets/wiki/uploads/Stuff/gz_2010_us_050_00_20m.json\") as url:\n",
    "    data = json.loads(url.read().decode(\"ISO-8859-1\"))\n",
    "counties = gdf_from_geojson(data)\n",
    "counties.rename(columns={'STATE':'STATE_FP', 'COUNTY': 'COUNTY_FP', 'NAME': 'COUNTY_NAME'}, inplace=True)\n",
    "counties['COUNTY_NAME'] = counties['COUNTY_NAME'].apply(lambda x: x.upper())\n",
    "counties['ST_ABBR'] = counties['STATE_FP'].apply(lambda x: fips_to_abbr[x])"
   ]
  },
  {
   "cell_type": "markdown",
   "metadata": {},
   "source": [
    "*zip code convex hull geodataframe*\n",
    "\n",
    "The zip code geojson file for the whole US was prohibitively large so we reduced the size by simplifying the polygons into their [convex hulls](https://en.wikipedia.org/wiki/Convex_hull). This dramatically reduced the file size while keeping enough spatial information for the simple task of validating basic location."
   ]
  },
  {
   "cell_type": "code",
   "execution_count": null,
   "metadata": {},
   "outputs": [],
   "source": [
    "zip_convex_hulls = gpd.read_file(external_data_path('us_zip_codes-convex_hulls.geojson'))"
   ]
  },
  {
   "cell_type": "markdown",
   "metadata": {},
   "source": [
    "# Geocoding"
   ]
  },
  {
   "cell_type": "code",
   "execution_count": null,
   "metadata": {},
   "outputs": [],
   "source": [
    "# Either replace the empty strings in the subsequent two lines with the appropriate API keys or set them as \n",
    "# environment variables\n",
    "google_key = ''\n",
    "mapbox_key = ''\n",
    "\n",
    "google_key = os.getenv('GOOGLE_API_KEY', google_key)\n",
    "mapbox_key = os.getenv('MAPBOX_API_KEY', mapbox_key)"
   ]
  },
  {
   "cell_type": "code",
   "execution_count": null,
   "metadata": {},
   "outputs": [],
   "source": [
    "def google_geocode_str(name, addr, city, state, county, zip_code, key, condense=False, address_only=False):\n",
    "    \"\"\"\n",
    "    Generate a Google Maps query url from DH fields and api key\n",
    "    \n",
    "    `condense` is an optional boolean parameter that enables construction of the URL with \n",
    "    all of the components combined into the address field rather than as separate components\n",
    "    this is an option if the latter fails\n",
    "    \"\"\"\n",
    "    \n",
    "    country = 'US'\n",
    "    if state in ('PR', 'GU', 'MP'):\n",
    "        country = state\n",
    "    if state == 'ON':\n",
    "        country = 'CA'\n",
    "\n",
    "    base = 'https://maps.googleapis.com/maps/api/geocode/json?'\n",
    "    if condense:\n",
    "        if address_only:\n",
    "            address_str = f'address={name}, {addr}'\n",
    "        else:\n",
    "            address_str = f'address={name}, {addr}, {city}, {state}, {county} county, {zip_code}'\n",
    "        components_str = '&components=country:{}'.format(country)\n",
    "    else:\n",
    "        address_str = 'address={}, {}'.format(name, addr)\n",
    "        if address_only:\n",
    "            components_str = f'&components=country:{country}'\n",
    "        else:\n",
    "            components_str = f'&components=country:{country}|locality:{city}|administrative_area:{state}|administrative_area:{county} county|postal_code:{zip_code}'\n",
    "    \n",
    "    key_str = '&key={}'.format(key)\n",
    "    \n",
    "    return base + address_str + components_str + key_str"
   ]
  },
  {
   "cell_type": "code",
   "execution_count": null,
   "metadata": {},
   "outputs": [],
   "source": [
    "def mapbox_geocode_str(name, addr, city, state, county, zip_code, key):\n",
    "    \"\"\"\n",
    "    Generate a Mapbox query url from DH fields and api key\n",
    "    \"\"\"\n",
    "    country = 'US'\n",
    "    if state in ('PR', 'GU', 'MP'):\n",
    "        country = state\n",
    "    if state == 'ON':\n",
    "        country = 'CA'\n",
    "        \n",
    "    base = 'https://api.mapbox.com/geocoding/v5/mapbox.places/'\n",
    "    address_str = f'{name},{addr},{city},{state},{county} county,{zip_code}.json?'\n",
    "    components_str = 'country={}&limit=5'.format(country)\n",
    "    key_str = '&access_token={}'.format(key)\n",
    "    \n",
    "    query_str = base + address_str + components_str + key_str\n",
    "    # mapbox urls are limited to 256 characters or fewer. Strategically remove component\n",
    "    # of the address if necessary to get under the threshold\n",
    "    if len(query_str) > 256:\n",
    "        query_str = query_str.replace('{},'.format(name), '')\n",
    "        if len(query_str) > 256:\n",
    "            query_str = query_str.replace('{} county,'.format(county), '')\n",
    "    \n",
    "    return query_str"
   ]
  },
  {
   "cell_type": "markdown",
   "metadata": {},
   "source": [
    "## HCRIS"
   ]
  },
  {
   "cell_type": "code",
   "execution_count": null,
   "metadata": {},
   "outputs": [],
   "source": [
    "hcris = pd.read_csv(external_data_path('HCRIS-HOSPITAL10_PROVIDER_ID_INFO.CSV'))\n",
    "\n",
    "# use 5 digit zip codes to match the us zip code geojson\n",
    "hcris['Zip_Code'] = hcris['Zip_Code'].apply(lambda x: x.split('-')[0])\n",
    "hcris.rename(columns = {'City': 'CITY_NAME', \n",
    "                        'State': 'ST_ABBR', \n",
    "                        'County': 'COUNTY_NAME', \n",
    "                        'Zip_Code': 'ZIP_CODE'}, inplace=True)"
   ]
  },
  {
   "cell_type": "code",
   "execution_count": null,
   "metadata": {},
   "outputs": [],
   "source": [
    "# provider num should be 6 char so need to zfill\n",
    "hcris['PROVIDER_NUMBER'] = hcris['PROVIDER_NUMBER'].apply(lambda x: str(x).zfill(6))\n",
    "\n",
    "# Rename this column to match up with reports\n",
    "hcris = hcris.rename(columns={'PROVIDER_NUMBER': 'Provider Number'})"
   ]
  },
  {
   "cell_type": "code",
   "execution_count": null,
   "metadata": {},
   "outputs": [],
   "source": [
    "# Change this test flag to `True` in order to run a smaller subset of all HCRIS facilities\n",
    "# to make sure everythin is worlking correctly\n",
    "test = False\n",
    "if test:\n",
    "    hcris = hcris.copy()\n",
    "    hcris = hcris.head(100)"
   ]
  },
  {
   "cell_type": "markdown",
   "metadata": {},
   "source": [
    "iterate over all facilities storing the geocode results and background information"
   ]
  },
  {
   "cell_type": "code",
   "execution_count": null,
   "metadata": {},
   "outputs": [],
   "source": [
    "geometry = []\n",
    "source = []\n",
    "confs = []\n",
    "\n",
    "for k, r in hcris.iterrows():\n",
    "    \n",
    "    county_geom = None\n",
    "    zip_geom = None\n",
    "    state_geom = None\n",
    "    \n",
    "    if isinstance(r['COUNTY_NAME'], str):\n",
    "        county = counties[(counties['ST_ABBR'] == r['ST_ABBR']) & (counties['COUNTY_NAME'] == r['COUNTY_NAME'])]\n",
    "        if len(county) == 1:\n",
    "            county_geom = county['geometry'].values[0]\n",
    "        \n",
    "        elif len(county) < 1:\n",
    "            # some counties are encoded slightly differently in hcris dataset\n",
    "            rcn = r['COUNTY_NAME'].replace(' COUNTY', '')\n",
    "            county = counties[(counties['ST_ABBR'] == r['ST_ABBR']) & (counties['COUNTY_NAME'] == rcn)]\n",
    "            if len(county) == 1:\n",
    "                county_geom = county['geometry'].values[0]\n",
    "        \n",
    "        elif len(county) > 1:\n",
    "            county = county[county['LSAD'] == 'County']\n",
    "            if len(county) == 1:\n",
    "                county_geom = county['geometry'].values[0]\n",
    "    \n",
    "    # using zip code is necessary because many facilities do not fall within counties or have\n",
    "    # incorrect county labels in the hcris dataset\n",
    "    if isinstance(r['ZIP_CODE'], str):\n",
    "        zips = zip_convex_hulls[zip_convex_hulls['ZIP_CODE'] == r['ZIP_CODE']]\n",
    "        if len(zips) == 1:\n",
    "            zip_geom = zips['geometry'].values[0]\n",
    "\n",
    "    state_geom = states[states['ST_ABBR'] == r['ST_ABBR']]['geometry'].values[0]\n",
    "    \n",
    "    \n",
    "    # workaround for one exception in PR\n",
    "    if r['Street_Addr'] == 'ROAD 172 EXIT TO CIDRA':\n",
    "        r['Street_Addr'] = ''\n",
    "        \n",
    "    args = [r['HOSP10_Name'], r['Street_Addr'], r['CITY_NAME'], r['ST_ABBR'], r['COUNTY_NAME'], r['ZIP_CODE']]\n",
    "    args = [str(a).replace('#', '').replace('/', ' ').replace(';', '').replace('?', '') for a in args]\n",
    "    \n",
    "    def _p(search_str):\n",
    "        \"\"\"\n",
    "        Convert http request str into a validated shapely point\n",
    "        \"\"\"\n",
    "        response = requests.get(search_str)\n",
    "        if response.status_code == 422:\n",
    "            print('Mapbox query string too long, relying on google maps')\n",
    "            \n",
    "        if response.status_code != 200:\n",
    "            print(response.json())\n",
    "            raise Exception('Status code exeption: {}'.format(response.status_code))\n",
    "        \n",
    "        \n",
    "        response = response.json()\n",
    "        if 'results' in response:\n",
    "            for result in response['results']:\n",
    "                y, x = result['geometry']['location'].values()\n",
    "                hosp_point = Point(x, y)\n",
    "                if county_geom:\n",
    "                    if hosp_point.within(county_geom):\n",
    "                        return (hosp_point, 'county')\n",
    "                if zip_geom:\n",
    "                    if hosp_point.within(zip_geom):\n",
    "                        return (hosp_point, 'zip code')\n",
    "                if state_geom:\n",
    "                    if hosp_point.within(state_geom):\n",
    "                        return (hosp_point, 'state')\n",
    "        else:\n",
    "            for feature in response['features']:\n",
    "                hosp_point = Point(feature['center'])\n",
    "                hosp_point = Point(x, y)\n",
    "                if county_geom:\n",
    "                    if hosp_point.within(county_geom):\n",
    "                        return (hosp_point, 'county')\n",
    "                if zip_geom:\n",
    "                    if hosp_point.within(zip_geom):\n",
    "                        return (hosp_point, 'zip code')\n",
    "                if state_geom:\n",
    "                    if hosp_point.within(state_geom):\n",
    "                        return (hosp_point, 'state')\n",
    "        \n",
    "        return (None, None)\n",
    "    \n",
    "    # Google\n",
    "    # Try google first\n",
    "    google_point, confirmation = _p(google_geocode_str(*args + [google_key]))\n",
    "    if not google_point:\n",
    "        # and try both different types of google request construction\n",
    "        google_point, confirmation = _p(google_geocode_str(*args + [google_key, True]))\n",
    "    \n",
    "    # Mapbox\n",
    "    # only try mapbox if google didn't return a valid point\n",
    "    mapbox_point = None\n",
    "    if not google_point:\n",
    "        mapbox_point, confirmation = _p(mapbox_geocode_str(*args + [mapbox_key]))\n",
    "        \n",
    "    if google_point:\n",
    "        source.append('google')\n",
    "        geometry.append(google_point)\n",
    "    elif mapbox_point:\n",
    "        source.append('mapbox')\n",
    "        geometry.append(mapbox_point)\n",
    "    else:\n",
    "        print('No coordinates found for row:')\n",
    "        print(r)\n",
    "        print()\n",
    "        source.append(None)\n",
    "        geometry.append(None)\n",
    "        \n",
    "    confs.append(confirmation)\n",
    "    \n",
    "    if (k + 1) % 100 == 0:\n",
    "        print('Geocoded [{}] of {} hospitals.'.format(k + 1, len(hcris)))\n",
    "\n",
    "# add geocoding info to hcris dataset and convert into GeoDataFrame\n",
    "hcris['source'] = source\n",
    "hcris['geometry'] = geometry\n",
    "hcris['confirmation_source'] = confs\n",
    "gdf = gpd.GeoDataFrame(hcris, crs='epsg:4326')\n",
    "\n",
    "f = processed_data_path('usa_facilities_hcris_geocoded.geojson')\n",
    "if test:\n",
    "    f = f.replace('.geojson', '-TEST.gejson')\n",
    "\n",
    "# save off file as GeoJSON\n",
    "gdf.to_file(f, driver='GeoJSON')"
   ]
  },
  {
   "cell_type": "markdown",
   "metadata": {},
   "source": [
    "## DH"
   ]
  },
  {
   "cell_type": "code",
   "execution_count": null,
   "metadata": {},
   "outputs": [],
   "source": [
    "dh = gpd.read_file(external_data_path('dh_facility_data.geojson'), encoding='utf-8')\n",
    "dh.reset_index(inplace=True)\n",
    "dh_orig = dh.copy()\n",
    "\n",
    "# use 5 digit zip codes to match the us zip code geojson\n",
    "dh['HQ_ZIP_COD'] = dh['HQ_ZIP_COD'].apply(lambda x: x.split('-')[0])\n",
    "dh.rename(columns = {'HQ_CITY': 'CITY_NAME', \n",
    "                     'HQ_STATE': 'ST_ABBR', \n",
    "                     'COUNTY_NAM': 'COUNTY_NAME', \n",
    "                     'HQ_ZIP_COD': 'ZIP_CODE',\n",
    "                     'HOSPITAL_N': 'HOSP10_Name',\n",
    "                     'HQ_ADDRESS': 'Street_Addr'}, inplace=True)"
   ]
  },
  {
   "cell_type": "code",
   "execution_count": null,
   "metadata": {},
   "outputs": [],
   "source": [
    "# Change this test flag to `True` in order to run a smaller subset of all DH facilities\n",
    "# to make sure everythin is worlking correctly\n",
    "test = False\n",
    "if test:\n",
    "    dh = dh.copy()\n",
    "    dh = dh.head(100)"
   ]
  },
  {
   "cell_type": "code",
   "execution_count": null,
   "metadata": {},
   "outputs": [],
   "source": [
    "dhs = dh.copy()"
   ]
  },
  {
   "cell_type": "code",
   "execution_count": null,
   "metadata": {},
   "outputs": [],
   "source": [
    "dhs"
   ]
  },
  {
   "cell_type": "code",
   "execution_count": null,
   "metadata": {},
   "outputs": [],
   "source": [
    "start = 0\n",
    "finish = len(dhs) + 1\n",
    "if finish > np.max(dh.index):\n",
    "    finish = np.max(dh.index) + 1\n",
    "\n",
    "dhs = dh.iloc[start:finish].copy()\n",
    "\n",
    "geometry = []\n",
    "source = []\n",
    "confs = []\n",
    "\n",
    "for k, r in dhs.iterrows():\n",
    "    county_geom = None\n",
    "    zip_geom = None\n",
    "    state_geom = None\n",
    "    \n",
    "    if isinstance(r['COUNTY_NAME'], str):\n",
    "        county = counties[(counties['ST_ABBR'] == r['ST_ABBR']) & (counties['COUNTY_NAME'] == r['COUNTY_NAME'])]\n",
    "        if len(county) == 1:\n",
    "            county_geom = county['geometry'].values[0]\n",
    "        \n",
    "        elif len(county) < 1:\n",
    "            # some counties are encoded slightly differently in dh dataset\n",
    "            rcn = r['COUNTY_NAME'].replace(' COUNTY', '')\n",
    "            county = counties[(counties['ST_ABBR'] == r['ST_ABBR']) & (counties['COUNTY_NAME'] == rcn)]\n",
    "            if len(county) == 1:\n",
    "                county_geom = county['geometry'].values[0]\n",
    "        \n",
    "        elif len(county) > 1:\n",
    "            county = county[county['LSAD'] == 'County']\n",
    "            if len(county) == 1:\n",
    "                county_geom = county['geometry'].values[0]\n",
    "    \n",
    "    # using zip code is necessary because many facilities do not fall within counties or have\n",
    "    # incorrect county labels in the dh dataset\n",
    "    if isinstance(r['ZIP_CODE'], str):\n",
    "        zips = zip_convex_hulls[zip_convex_hulls['ZIP_CODE'] == r['ZIP_CODE']]\n",
    "        if len(zips) == 1:\n",
    "            zip_geom = zips['geometry'].values[0]\n",
    "    \n",
    "    if r['ST_ABBR'] == 'ON':\n",
    "        state_geom = None\n",
    "    else:\n",
    "        state_geom = states[states['ST_ABBR'] == r['ST_ABBR']]['geometry'].values[0]\n",
    "    \n",
    "    # workaround for one exception in PR\n",
    "    if r['Street_Addr'] == 'ROAD 172 EXIT TO CIDRA':\n",
    "        r['Street_Addr'] = ''\n",
    "        \n",
    "    args = [r['HOSP10_Name'], r['Street_Addr'], r['CITY_NAME'], r['ST_ABBR'], r['COUNTY_NAME'], r['ZIP_CODE']]\n",
    "    args = [str(a).replace('#', '').replace('/', ' ').replace(';', '').replace('?', '') for a in args]\n",
    "    \n",
    "    def _p(search_str):\n",
    "        \"\"\"\n",
    "        Convert http request str into a validated shapely point\n",
    "        \"\"\"\n",
    "        try:\n",
    "            response = requests.get(search_str)\n",
    "        except ConnectionError:\n",
    "            return 'disconnection'\n",
    "        \n",
    "        if response.status_code == 422:\n",
    "            print('Mapbox query string too long, relying on google maps')\n",
    "        \n",
    "        if response.status_code == 500:\n",
    "            print(search_str)\n",
    "            for i in range(10):\n",
    "                time.sleep(120)\n",
    "                response = requests.get(search_str)\n",
    "                print(i)\n",
    "                if response.status_code != 500:\n",
    "                    break\n",
    "        \n",
    "        if response.status_code != 200:\n",
    "            print(response.json())\n",
    "            print(search_str)\n",
    "            raise Exception('Status code exeption: {}'.format(response.status_code))\n",
    "        \n",
    "        \n",
    "        response = response.json()\n",
    "        if 'results' in response:\n",
    "            for result in response['results']:\n",
    "                y, x = result['geometry']['location'].values()\n",
    "                hosp_point = Point(x, y)\n",
    "                if county_geom:\n",
    "                    if hosp_point.within(county_geom):\n",
    "                        return (hosp_point, 'county')\n",
    "                if zip_geom:\n",
    "                    if hosp_point.within(zip_geom):\n",
    "                        return (hosp_point, 'zip code')\n",
    "                if state_geom:\n",
    "                    if hosp_point.within(state_geom):\n",
    "                        return (hosp_point, 'state')\n",
    "                else:\n",
    "                    return (hosp_point, 'None')\n",
    "        else:\n",
    "            for feature in response['features']:\n",
    "                hosp_point = Point(feature['center'])\n",
    "                if county_geom:\n",
    "                    if hosp_point.within(county_geom):\n",
    "                        return (hosp_point, 'county')\n",
    "                if zip_geom:\n",
    "                    if hosp_point.within(zip_geom):\n",
    "                        return (hosp_point, 'zip code')\n",
    "                if state_geom:\n",
    "                    if hosp_point.within(state_geom):\n",
    "                        return (hosp_point, 'state')\n",
    "                else:\n",
    "                    return (hosp_point, 'None')\n",
    "        \n",
    "        return (None, None)\n",
    "    \n",
    "    # Google\n",
    "    # Try google first\n",
    "    o = _p(google_geocode_str(*args + [google_key]))\n",
    "    if o == 'disconnect':\n",
    "        break\n",
    "    else:\n",
    "        google_point, confirmation = o\n",
    "        if not google_point:\n",
    "            # and try both different types of google request construction\n",
    "            o = _p(google_geocode_str(*args + [google_key]))\n",
    "            if o == 'disconnect':\n",
    "                break\n",
    "            else:\n",
    "                google_point, confirmation = _p(google_geocode_str(*args + [google_key, True]))\n",
    "    \n",
    "    # Mapbox\n",
    "    # only try mapbox if google didn't return a valid point\n",
    "    mapbox_point = None\n",
    "    if not google_point:\n",
    "        o = _p(mapbox_geocode_str(*args + [mapbox_key]))\n",
    "        if o == 'disconnect':\n",
    "            break\n",
    "        else:\n",
    "            mapbox_point, confirmation = o\n",
    "        if not mapbox_point:\n",
    "            o = google_point, confirmation = _p(google_geocode_str(*args + [google_key, True, True]))\n",
    "            if o == 'disconnect':\n",
    "                break\n",
    "            else:\n",
    "                google_point, confirmation = o\n",
    "        \n",
    "    if google_point:\n",
    "        source.append('google')\n",
    "        geometry.append(google_point)\n",
    "    elif mapbox_point:\n",
    "        source.append('mapbox')\n",
    "        geometry.append(mapbox_point)\n",
    "    else:\n",
    "        print('No coordinates found for row:')\n",
    "        print(r)\n",
    "        source.append(None)\n",
    "        geometry.append(None)\n",
    "\n",
    "    confs.append(confirmation)\n",
    "    \n",
    "    if (k + 1) % 100 == 0:\n",
    "        print('Geocoded [{}] of {} hospitals.'.format(k + 1, len(dh)))\n",
    "\n",
    "if o == 'disconnect':\n",
    "    print('Disconnected at row {}'.format(k))\n",
    "    finish = k\n",
    "    dhs = dh.iloc[start:finish].copy()"
   ]
  },
  {
   "cell_type": "code",
   "execution_count": null,
   "metadata": {},
   "outputs": [],
   "source": [
    "# add geocoding info to dh dataset and convert into GeoDataFrame\n",
    "dhs['source'] = source\n",
    "dhs['geometry'] = geometry\n",
    "dhs['confirmation_source'] = confs"
   ]
  },
  {
   "cell_type": "code",
   "execution_count": null,
   "metadata": {},
   "outputs": [],
   "source": [
    "dhs_orig = dh_orig.iloc[start:finish].copy()"
   ]
  },
  {
   "cell_type": "code",
   "execution_count": null,
   "metadata": {},
   "outputs": [],
   "source": [
    "for g in (dhs, dhs_orig):\n",
    "    g.to_crs('EPSG:3857', inplace=True)"
   ]
  },
  {
   "cell_type": "code",
   "execution_count": null,
   "metadata": {},
   "outputs": [],
   "source": [
    "dists = [x.distance(y) for x, y in list(zip(dhs['geometry'], dhs_orig['geometry']))]"
   ]
  },
  {
   "cell_type": "code",
   "execution_count": null,
   "metadata": {},
   "outputs": [],
   "source": [
    "dhs['distance'] = dists\n",
    "dhs_orig['distance'] = dists"
   ]
  },
  {
   "cell_type": "code",
   "execution_count": null,
   "metadata": {},
   "outputs": [],
   "source": [
    "for g in (dhs, dhs_orig):\n",
    "    g.to_crs('EPSG:4326', inplace=True)"
   ]
  },
  {
   "cell_type": "code",
   "execution_count": null,
   "metadata": {},
   "outputs": [],
   "source": [
    "dhs.to_file(processed_data_path('dh_geocoded_v2_04072020.geojson'), driver='GeoJSON')\n",
    "dhs_orig.to_file(processed_data_path('dh_orig_for_mapping_v1_0326202.geojson'), driver='GeoJSON')"
   ]
  }
 ],
 "metadata": {
  "kernelspec": {
   "display_name": "Python 3",
   "language": "python",
   "name": "python3"
  },
  "language_info": {
   "codemirror_mode": {
    "name": "ipython",
    "version": 3
   },
   "file_extension": ".py",
   "mimetype": "text/x-python",
   "name": "python",
   "nbconvert_exporter": "python",
   "pygments_lexer": "ipython3",
   "version": "3.8.2"
  }
 },
 "nbformat": 4,
 "nbformat_minor": 4
}
