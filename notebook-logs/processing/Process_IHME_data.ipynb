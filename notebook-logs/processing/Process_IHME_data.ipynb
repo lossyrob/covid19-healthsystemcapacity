{
 "cells": [
  {
   "cell_type": "code",
   "execution_count": 1,
   "metadata": {
    "execution": {
     "iopub.execute_input": "2020-05-02T17:32:23.921832Z",
     "iopub.status.busy": "2020-05-02T17:32:23.921199Z",
     "iopub.status.idle": "2020-05-02T17:32:24.437513Z",
     "shell.execute_reply": "2020-05-02T17:32:24.436479Z"
    },
    "papermill": {
     "duration": 0.542121,
     "end_time": "2020-05-02T17:32:24.437719",
     "exception": false,
     "start_time": "2020-05-02T17:32:23.895598",
     "status": "completed"
    },
    "tags": []
   },
   "outputs": [],
   "source": [
    "import json\n",
    "from collections import defaultdict\n",
    "\n",
    "import pandas as pd\n",
    "import geopandas as gpd\n",
    "from shapely.geometry import mapping\n",
    "from jenkspy import jenks_breaks\n",
    "\n",
    "from covidcaremap.data import external_data_path, processed_data_path\n",
    "from covidcaremap.ihme import IHME"
   ]
  },
  {
   "cell_type": "markdown",
   "metadata": {
    "papermill": {
     "duration": 0.014285,
     "end_time": "2020-05-02T17:32:24.467680",
     "exception": false,
     "start_time": "2020-05-02T17:32:24.453395",
     "status": "completed"
    },
    "tags": []
   },
   "source": [
    "Configuration that will be used in the visualization"
   ]
  },
  {
   "cell_type": "code",
   "execution_count": 2,
   "metadata": {
    "execution": {
     "iopub.execute_input": "2020-05-02T17:32:24.502740Z",
     "iopub.status.busy": "2020-05-02T17:32:24.502238Z",
     "iopub.status.idle": "2020-05-02T17:32:24.504578Z",
     "shell.execute_reply": "2020-05-02T17:32:24.504047Z"
    },
    "papermill": {
     "duration": 0.022728,
     "end_time": "2020-05-02T17:32:24.504676",
     "exception": false,
     "start_time": "2020-05-02T17:32:24.481948",
     "status": "completed"
    },
    "tags": []
   },
   "outputs": [],
   "source": [
    "ihme_config = {\n",
    "    'dates': None, # Calculated below\n",
    "    'ihme_version': None, # Calculated below\n",
    "    'aggregations': {\n",
    "        'country': {\n",
    "            'per_capita_base': 1000000,\n",
    "            'breaks': { 'totals': None, 'per_capita': None } # Calculated below\n",
    "        },\n",
    "        'region': {\n",
    "            'per_capita_base': 100000,\n",
    "            'breaks': { 'totals': None, 'per_capita': None } # Calculated below\n",
    "        }\n",
    "    }\n",
    "}"
   ]
  },
  {
   "cell_type": "markdown",
   "metadata": {
    "papermill": {
     "duration": 0.014194,
     "end_time": "2020-05-02T17:32:24.533064",
     "exception": false,
     "start_time": "2020-05-02T17:32:24.518870",
     "status": "completed"
    },
    "tags": []
   },
   "source": [
    "Read in a range of country/region boundaries to match up to IHME location names."
   ]
  },
  {
   "cell_type": "code",
   "execution_count": 3,
   "metadata": {
    "execution": {
     "iopub.execute_input": "2020-05-02T17:32:24.671574Z",
     "iopub.status.busy": "2020-05-02T17:32:24.654477Z",
     "iopub.status.idle": "2020-05-02T17:32:35.526106Z",
     "shell.execute_reply": "2020-05-02T17:32:35.525086Z"
    },
    "papermill": {
     "duration": 10.979787,
     "end_time": "2020-05-02T17:32:35.526226",
     "exception": false,
     "start_time": "2020-05-02T17:32:24.546439",
     "status": "completed"
    },
    "tags": []
   },
   "outputs": [],
   "source": [
    "state_gdf = gpd.read_file(external_data_path('us_states.geojson'), encoding='utf-8')\n",
    "countries_gdf = gpd.read_file(external_data_path('admin0.geojson'))\n",
    "spain_gdf = gpd.read_file('https://raw.githubusercontent.com/deldersveld/'\n",
    "                          'topojson/master/countries/spain/spain-comunidad.json')\n",
    "canary_islands_gdf = gpd.read_file('https://raw.githubusercontent.com/deldersveld/'\n",
    "                                   'topojson/master/countries/spain/canary-islands-province.json')\n",
    "italy_gdf = gpd.read_file('https://raw.githubusercontent.com/openpolis/'\n",
    "                          'geojson-italy/master/geojson/limits_IT_regions.geojson')\n",
    "admin1_gdf = gpd.read_file(external_data_path('admin1.geojson'))\n"
   ]
  },
  {
   "cell_type": "markdown",
   "metadata": {
    "papermill": {
     "duration": 0.015344,
     "end_time": "2020-05-02T17:32:35.555763",
     "exception": false,
     "start_time": "2020-05-02T17:32:35.540419",
     "status": "completed"
    },
    "tags": []
   },
   "source": [
    "Read population data"
   ]
  },
  {
   "cell_type": "code",
   "execution_count": 4,
   "metadata": {
    "execution": {
     "iopub.execute_input": "2020-05-02T17:32:35.687116Z",
     "iopub.status.busy": "2020-05-02T17:32:35.680584Z",
     "iopub.status.idle": "2020-05-02T17:32:35.827821Z",
     "shell.execute_reply": "2020-05-02T17:32:35.826893Z"
    },
    "papermill": {
     "duration": 0.257454,
     "end_time": "2020-05-02T17:32:35.828002",
     "exception": false,
     "start_time": "2020-05-02T17:32:35.570548",
     "status": "completed"
    },
    "tags": []
   },
   "outputs": [],
   "source": [
    "state_pop_gdf = gpd.read_file(processed_data_path('us_states_with_pop.geojson'))\n",
    "worldpop_country_df = pd.read_csv(external_data_path('worldpop-country-pop-for-ihme-2020.csv'))\n",
    "worldpop_region_df = pd.read_csv(external_data_path('worldpop-region-pop-for-ihme-2020.csv'))\n",
    "worldpop_admin1_df = pd.read_csv(external_data_path('worldpop-admin1-2020.csv'))"
   ]
  },
  {
   "cell_type": "code",
   "execution_count": 5,
   "metadata": {
    "execution": {
     "iopub.execute_input": "2020-05-02T17:32:35.865620Z",
     "iopub.status.busy": "2020-05-02T17:32:35.865124Z",
     "iopub.status.idle": "2020-05-02T17:32:35.915246Z",
     "shell.execute_reply": "2020-05-02T17:32:35.915679Z"
    },
    "papermill": {
     "duration": 0.071769,
     "end_time": "2020-05-02T17:32:35.915853",
     "exception": false,
     "start_time": "2020-05-02T17:32:35.844084",
     "status": "completed"
    },
    "tags": []
   },
   "outputs": [
    {
     "data": {
      "text/html": [
       "<div>\n",
       "<style scoped>\n",
       "    .dataframe tbody tr th:only-of-type {\n",
       "        vertical-align: middle;\n",
       "    }\n",
       "\n",
       "    .dataframe tbody tr th {\n",
       "        vertical-align: top;\n",
       "    }\n",
       "\n",
       "    .dataframe thead th {\n",
       "        text-align: right;\n",
       "    }\n",
       "</style>\n",
       "<table border=\"1\" class=\"dataframe\">\n",
       "  <thead>\n",
       "    <tr style=\"text-align: right;\">\n",
       "      <th></th>\n",
       "      <th>adm0_a3_y</th>\n",
       "      <th>location_name</th>\n",
       "    </tr>\n",
       "  </thead>\n",
       "  <tbody>\n",
       "    <tr>\n",
       "      <th>0</th>\n",
       "      <td>CAN</td>\n",
       "      <td>Alberta</td>\n",
       "    </tr>\n",
       "    <tr>\n",
       "      <th>1</th>\n",
       "      <td>CAN</td>\n",
       "      <td>New Brunswick</td>\n",
       "    </tr>\n",
       "    <tr>\n",
       "      <th>2</th>\n",
       "      <td>CAN</td>\n",
       "      <td>Yukon</td>\n",
       "    </tr>\n",
       "    <tr>\n",
       "      <th>3</th>\n",
       "      <td>CAN</td>\n",
       "      <td>Manitoba</td>\n",
       "    </tr>\n",
       "    <tr>\n",
       "      <th>4</th>\n",
       "      <td>CAN</td>\n",
       "      <td>Nunavut</td>\n",
       "    </tr>\n",
       "    <tr>\n",
       "      <th>5</th>\n",
       "      <td>CAN</td>\n",
       "      <td>British Columbia</td>\n",
       "    </tr>\n",
       "    <tr>\n",
       "      <th>6</th>\n",
       "      <td>CAN</td>\n",
       "      <td>Ontario</td>\n",
       "    </tr>\n",
       "    <tr>\n",
       "      <th>7</th>\n",
       "      <td>CAN</td>\n",
       "      <td>Nova Scotia</td>\n",
       "    </tr>\n",
       "    <tr>\n",
       "      <th>8</th>\n",
       "      <td>CAN</td>\n",
       "      <td>Saskatchewan</td>\n",
       "    </tr>\n",
       "    <tr>\n",
       "      <th>9</th>\n",
       "      <td>CAN</td>\n",
       "      <td>Northwest Territories</td>\n",
       "    </tr>\n",
       "    <tr>\n",
       "      <th>10</th>\n",
       "      <td>CAN</td>\n",
       "      <td>Québec</td>\n",
       "    </tr>\n",
       "    <tr>\n",
       "      <th>11</th>\n",
       "      <td>CAN</td>\n",
       "      <td>Newfoundland and Labrador</td>\n",
       "    </tr>\n",
       "    <tr>\n",
       "      <th>12</th>\n",
       "      <td>CAN</td>\n",
       "      <td>Prince Edward Island</td>\n",
       "    </tr>\n",
       "  </tbody>\n",
       "</table>\n",
       "</div>"
      ],
      "text/plain": [
       "   adm0_a3_y              location_name\n",
       "0        CAN                    Alberta\n",
       "1        CAN              New Brunswick\n",
       "2        CAN                      Yukon\n",
       "3        CAN                   Manitoba\n",
       "4        CAN                    Nunavut\n",
       "5        CAN           British Columbia\n",
       "6        CAN                    Ontario\n",
       "7        CAN                Nova Scotia\n",
       "8        CAN               Saskatchewan\n",
       "9        CAN      Northwest Territories\n",
       "10       CAN                     Québec\n",
       "11       CAN  Newfoundland and Labrador\n",
       "12       CAN       Prince Edward Island"
      ]
     },
     "execution_count": 5,
     "metadata": {},
     "output_type": "execute_result"
    }
   ],
   "source": [
    "worldpop_admin1_df[worldpop_admin1_df['adm0_a3'] == 'CAN'] \\\n",
    "    .merge(admin1_gdf , on='adm1_code') \\\n",
    "    .drop(columns=['adm1_code']) \\\n",
    "    .rename(columns={'name': 'location_name'})[['adm0_a3_y','location_name']]"
   ]
  },
  {
   "cell_type": "markdown",
   "metadata": {
    "papermill": {
     "duration": 0.021043,
     "end_time": "2020-05-02T17:32:35.952277",
     "exception": false,
     "start_time": "2020-05-02T17:32:35.931234",
     "status": "completed"
    },
    "tags": []
   },
   "source": [
    "Process Admin0 and Admin1 worldpop data to support new countries and regions added by IHME."
   ]
  },
  {
   "cell_type": "code",
   "execution_count": 6,
   "metadata": {
    "execution": {
     "iopub.execute_input": "2020-05-02T17:32:35.993373Z",
     "iopub.status.busy": "2020-05-02T17:32:35.992825Z",
     "iopub.status.idle": "2020-05-02T17:32:36.010666Z",
     "shell.execute_reply": "2020-05-02T17:32:36.010188Z"
    },
    "papermill": {
     "duration": 0.043039,
     "end_time": "2020-05-02T17:32:36.010766",
     "exception": false,
     "start_time": "2020-05-02T17:32:35.967727",
     "status": "completed"
    },
    "tags": []
   },
   "outputs": [],
   "source": [
    "worldpop_admin1_processed_df = worldpop_admin1_df[['adm1_code', 'population']] \\\n",
    "    .merge(admin1_gdf[['adm1_code', 'name']] , on='adm1_code') \\\n",
    "    .drop(columns=['adm1_code']) \\\n",
    "    .rename(columns={'name': 'location_name'})\n",
    "\n",
    "worldpop_admin0_processed_df = worldpop_admin1_df.groupby('adm0_a3')['population'].sum() \\\n",
    "    .to_frame() \\\n",
    "    .merge(countries_gdf[['ADM0_A3', 'NAME']] , left_on='adm0_a3', right_on='ADM0_A3') \\\n",
    "    .drop(columns=['ADM0_A3']) \\\n",
    "    .rename(columns={'NAME': 'location_name'})"
   ]
  },
  {
   "cell_type": "markdown",
   "metadata": {
    "papermill": {
     "duration": 0.015223,
     "end_time": "2020-05-02T17:32:36.041455",
     "exception": false,
     "start_time": "2020-05-02T17:32:36.026232",
     "status": "completed"
    },
    "tags": []
   },
   "source": [
    "Get the latest IHME projections."
   ]
  },
  {
   "cell_type": "code",
   "execution_count": 7,
   "metadata": {
    "execution": {
     "iopub.execute_input": "2020-05-02T17:32:36.077344Z",
     "iopub.status.busy": "2020-05-02T17:32:36.076814Z",
     "iopub.status.idle": "2020-05-02T17:32:37.260498Z",
     "shell.execute_reply": "2020-05-02T17:32:37.261185Z"
    },
    "papermill": {
     "duration": 1.204536,
     "end_time": "2020-05-02T17:32:37.261397",
     "exception": false,
     "start_time": "2020-05-02T17:32:36.056861",
     "status": "completed"
    },
    "tags": []
   },
   "outputs": [
    {
     "name": "stdout",
     "output_type": "stream",
     "text": [
      "Model version: 2020_04_28.02\n"
     ]
    }
   ],
   "source": [
    "ihme_df, ihme_version = IHME.get_latest(include_version=True)\n",
    "ihme_config['ihme_version'] = ihme_version\n",
    "print('Model version: {}'.format(ihme_version))"
   ]
  },
  {
   "cell_type": "markdown",
   "metadata": {
    "papermill": {
     "duration": 0.016903,
     "end_time": "2020-05-02T17:32:37.295106",
     "exception": false,
     "start_time": "2020-05-02T17:32:37.278203",
     "status": "completed"
    },
    "tags": []
   },
   "source": [
    "Rename columns between IHME and the geospatial datasets so that they can be matched up."
   ]
  },
  {
   "cell_type": "code",
   "execution_count": 8,
   "metadata": {
    "execution": {
     "iopub.execute_input": "2020-05-02T17:32:37.334572Z",
     "iopub.status.busy": "2020-05-02T17:32:37.334030Z",
     "iopub.status.idle": "2020-05-02T17:32:37.599823Z",
     "shell.execute_reply": "2020-05-02T17:32:37.599180Z"
    },
    "papermill": {
     "duration": 0.289043,
     "end_time": "2020-05-02T17:32:37.599933",
     "exception": false,
     "start_time": "2020-05-02T17:32:37.310890",
     "status": "completed"
    },
    "tags": []
   },
   "outputs": [],
   "source": [
    "# Renames for better matching\n",
    "italy_gdf = italy_gdf.replace({\n",
    "    '''Valle d'Aosta/Vallée d'Aoste''': '''Valle d'Aosta'''\n",
    "})\n",
    "\n",
    "# Rename regions to line up with GeoJSON values.\n",
    "ihme_df = ihme_df.replace({\n",
    "    # Spain regions\n",
    "    'Andalucia': 'Andalucía',\n",
    "    'Aragon': 'Aragón',\n",
    "    'Castile and Leon': 'Castilla y León',\n",
    "    'Catalonia': 'Cataluña',  \n",
    "    'Basque Country': 'País Vasco',\n",
    "    'Canary Islands': 'Islas Canarias',\n",
    "    'Valencian Community': 'Comunidad Valenciana',\n",
    "    \n",
    "    # Italy\n",
    "    'Provincia autonoma di Bolzano': 'Bozen',\n",
    "    'Provincia autonoma di Trento': 'Trento',\n",
    "    \n",
    "    # Germany\n",
    "    'Baden-Wurttemberg': 'Baden-Württemberg',\n",
    "    \n",
    "    # Canada\n",
    "    'Quebec': 'Québec' \n",
    "})"
   ]
  },
  {
   "cell_type": "markdown",
   "metadata": {
    "papermill": {
     "duration": 0.015662,
     "end_time": "2020-05-02T17:32:37.631892",
     "exception": false,
     "start_time": "2020-05-02T17:32:37.616230",
     "status": "completed"
    },
    "tags": []
   },
   "source": [
    "Ensure we'll capture all the regions we want to match."
   ]
  },
  {
   "cell_type": "code",
   "execution_count": 9,
   "metadata": {
    "execution": {
     "iopub.execute_input": "2020-05-02T17:32:37.672575Z",
     "iopub.status.busy": "2020-05-02T17:32:37.670903Z",
     "iopub.status.idle": "2020-05-02T17:32:37.674750Z",
     "shell.execute_reply": "2020-05-02T17:32:37.675125Z"
    },
    "papermill": {
     "duration": 0.02779,
     "end_time": "2020-05-02T17:32:37.675249",
     "exception": false,
     "start_time": "2020-05-02T17:32:37.647459",
     "status": "completed"
    },
    "tags": []
   },
   "outputs": [],
   "source": [
    "missing_regions = (\n",
    "    set(ihme_df['location_name'].values) - \n",
    "    set(state_gdf['NAME'].values) - \n",
    "    set(countries_gdf['ADMIN'].values) -\n",
    "    set(admin1_gdf['name_en'].values) -\n",
    "    set(admin1_gdf['name'].values) -\n",
    "    set(spain_gdf['NAME_1'].values) -\n",
    "    set(canary_islands_gdf['NAME_1'].values) -\n",
    "    set(italy_gdf['reg_name'].values)\n",
    ")\n",
    "\n",
    "regions_to_ignore = set([\n",
    "   'Other Counties, WA', \n",
    "   'Life Care Center, Kirkland, WA',\n",
    "   'King and Snohomish Counties (excluding Life Care Center), WA'\n",
    "])\n",
    "assert len(missing_regions - regions_to_ignore) == 0"
   ]
  },
  {
   "cell_type": "markdown",
   "metadata": {
    "papermill": {
     "duration": 0.014345,
     "end_time": "2020-05-02T17:32:37.704373",
     "exception": false,
     "start_time": "2020-05-02T17:32:37.690028",
     "status": "completed"
    },
    "tags": []
   },
   "source": [
    "Create a dictionary of location name to geometries and population."
   ]
  },
  {
   "cell_type": "code",
   "execution_count": 10,
   "metadata": {
    "execution": {
     "iopub.execute_input": "2020-05-02T17:32:37.744878Z",
     "iopub.status.busy": "2020-05-02T17:32:37.742667Z",
     "iopub.status.idle": "2020-05-02T17:32:39.103541Z",
     "shell.execute_reply": "2020-05-02T17:32:39.102681Z"
    },
    "papermill": {
     "duration": 1.384917,
     "end_time": "2020-05-02T17:32:39.103780",
     "exception": false,
     "start_time": "2020-05-02T17:32:37.718863",
     "status": "completed"
    },
    "tags": []
   },
   "outputs": [],
   "source": [
    "country_dfs = [\n",
    "    (countries_gdf, 'ADMIN'),\n",
    "]\n",
    "\n",
    "country_pop_dfs = [\n",
    "    (worldpop_country_df, 'location_name', 'population'),\n",
    "    (worldpop_admin0_processed_df, 'location_name', 'population')\n",
    "]\n",
    "\n",
    "region_dfs = [\n",
    "    (state_gdf, 'NAME'),\n",
    "    (admin1_gdf, 'name_en'),\n",
    "    (admin1_gdf, 'name'),\n",
    "    (spain_gdf, 'NAME_1'),\n",
    "    (canary_islands_gdf, 'NAME_1'),\n",
    "    (italy_gdf, 'reg_name')\n",
    "]\n",
    "\n",
    "region_pop_dfs = [\n",
    "    (state_pop_gdf, 'State Name', 'Population'),\n",
    "    (worldpop_region_df, 'location_name', 'population'),\n",
    "    (worldpop_admin1_processed_df, 'location_name', 'population')\n",
    "]\n",
    "\n",
    "def get_geoms_by_name(dfs):\n",
    "    result = {}\n",
    "    \n",
    "    for df, name_col in dfs:\n",
    "        for _, feature in df.iterrows():\n",
    "            name = feature[name_col]\n",
    "            if name is not None:\n",
    "                if name not in result:\n",
    "                    result[name] = feature['geometry']\n",
    "    return result\n",
    "\n",
    "def get_pop_by_name(dfs):\n",
    "    result = {}\n",
    "    \n",
    "    for df, name_col, pop_col in dfs:\n",
    "        for _, row in df.iterrows():\n",
    "            name = row[name_col]\n",
    "            if name is not None:\n",
    "                if name not in result:\n",
    "                    result[name] = row[pop_col]\n",
    "    return result\n",
    "\n",
    "country_geom_by_name = get_geoms_by_name(country_dfs)\n",
    "country_pop_by_name = get_pop_by_name(country_pop_dfs)\n",
    "region_geom_by_name = get_geoms_by_name(region_dfs)  \n",
    "region_pop_by_name = get_pop_by_name(region_pop_dfs)\n",
    "    "
   ]
  },
  {
   "cell_type": "markdown",
   "metadata": {
    "papermill": {
     "duration": 0.016026,
     "end_time": "2020-05-02T17:32:39.138783",
     "exception": false,
     "start_time": "2020-05-02T17:32:39.122757",
     "status": "completed"
    },
    "tags": []
   },
   "source": [
    "Define methods that generate the IHME GeoJSON for each of our region groups."
   ]
  },
  {
   "cell_type": "code",
   "execution_count": 11,
   "metadata": {
    "execution": {
     "iopub.execute_input": "2020-05-02T17:32:39.181019Z",
     "iopub.status.busy": "2020-05-02T17:32:39.180482Z",
     "iopub.status.idle": "2020-05-02T17:32:39.184547Z",
     "shell.execute_reply": "2020-05-02T17:32:39.184044Z"
    },
    "papermill": {
     "duration": 0.02945,
     "end_time": "2020-05-02T17:32:39.184645",
     "exception": false,
     "start_time": "2020-05-02T17:32:39.155195",
     "status": "completed"
    },
    "tags": []
   },
   "outputs": [],
   "source": [
    "value_cols = [\n",
    "    'allbed_mean', \n",
    "    'allbed_lower',\n",
    "    'allbed_upper', \n",
    "    'ICUbed_mean', \n",
    "    'ICUbed_lower', \n",
    "    'ICUbed_upper',\n",
    "    'InvVen_mean', \n",
    "    'InvVen_lower', \n",
    "    'InvVen_upper', \n",
    "    'deaths_mean',\n",
    "    'deaths_lower', \n",
    "    'deaths_upper', \n",
    "    'admis_mean', \n",
    "    'admis_lower',\n",
    "    'admis_upper', \n",
    "    'newICU_mean', \n",
    "    'newICU_lower', \n",
    "    'newICU_upper',\n",
    "    'totdea_mean', \n",
    "    'totdea_lower', \n",
    "    'totdea_upper', \n",
    "    'bedover_mean',\n",
    "    'bedover_lower', \n",
    "    'bedover_upper', \n",
    "    'icuover_mean', \n",
    "    'icuover_lower',\n",
    "    'icuover_upper']\n",
    "\n",
    "def gather_features_by_name(geoms_by_name, pop_by_name, df):\n",
    "    dates = set([])\n",
    "    props_by_name = defaultdict(dict)\n",
    "    for _, row in df.iterrows():\n",
    "        name = row['location_name']\n",
    "        date = row['date']\n",
    "        dates.add(date)\n",
    "        for col in value_cols:\n",
    "            props_by_name[name]['{}_{}'.format(date, col)] = row[col]\n",
    "    \n",
    "    features = []\n",
    "    names_found = []\n",
    "    names_not_found = []\n",
    "    for name in props_by_name:\n",
    "        if name in geoms_by_name:\n",
    "            geom = geoms_by_name[name]\n",
    "            pop = pop_by_name[name]\n",
    "            props = { 'location_name': name, 'population': pop }\n",
    "            for k, v in props_by_name[name].items():\n",
    "                props[k] = v\n",
    "            features.append({\n",
    "                'type': 'Feature',\n",
    "                'geometry': mapping(geom),\n",
    "                'properties': props\n",
    "            })\n",
    "            names_found.append(name)\n",
    "        else:\n",
    "            names_not_found.append(name)\n",
    "    return features, dates, set(names_found), set(names_not_found)\n",
    "    "
   ]
  },
  {
   "cell_type": "markdown",
   "metadata": {
    "papermill": {
     "duration": 0.017555,
     "end_time": "2020-05-02T17:32:39.218423",
     "exception": false,
     "start_time": "2020-05-02T17:32:39.200868",
     "status": "completed"
    },
    "tags": []
   },
   "source": [
    "Define methods for generating breaks that will be used to color the map."
   ]
  },
  {
   "cell_type": "code",
   "execution_count": 12,
   "metadata": {
    "execution": {
     "iopub.execute_input": "2020-05-02T17:32:39.261251Z",
     "iopub.status.busy": "2020-05-02T17:32:39.260593Z",
     "iopub.status.idle": "2020-05-02T17:32:39.262851Z",
     "shell.execute_reply": "2020-05-02T17:32:39.262217Z"
    },
    "papermill": {
     "duration": 0.028623,
     "end_time": "2020-05-02T17:32:39.262966",
     "exception": false,
     "start_time": "2020-05-02T17:32:39.234343",
     "status": "completed"
    },
    "tags": []
   },
   "outputs": [],
   "source": [
    "metrics = set(map(lambda x: x.split('_')[0], value_cols))\n",
    "levels = set(map(lambda x: x.split('_')[1], value_cols))\n",
    "\n",
    "def get_prop_values(features, per_capita_base=None):\n",
    "    result = {}\n",
    "    for m in metrics:\n",
    "        result[m] = {}\n",
    "        for l in levels:\n",
    "            result[m][l] = []\n",
    "\n",
    "    for feat in features:\n",
    "        if per_capita_base is not None:\n",
    "            pop = feat['properties']['population']\n",
    "            denom = pop / per_capita_base\n",
    "        else:\n",
    "             denom = 1\n",
    "                \n",
    "        for k, v in feat['properties'].items():\n",
    "            if k not in ['location_name', 'population']:\n",
    "                _, metric, level = k.split('_')\n",
    "                result[metric][level].append(v / denom)\n",
    "                \n",
    "    return dict(result)\n",
    "\n",
    "def compute_breaks(features, per_capita_base=None):\n",
    "    result = {}\n",
    "    for m in metrics:\n",
    "        result[m] = {}\n",
    "        for l in levels:\n",
    "            result[m][l] = None\n",
    "            \n",
    "    prop_values = get_prop_values(features, per_capita_base)\n",
    "    for m in prop_values:\n",
    "        for l in prop_values[m]:\n",
    "            result[m][l] = jenks_breaks(prop_values[m][l], nb_class=6)\n",
    "\n",
    "    return result"
   ]
  },
  {
   "cell_type": "markdown",
   "metadata": {
    "papermill": {
     "duration": 0.016887,
     "end_time": "2020-05-02T17:32:39.297299",
     "exception": false,
     "start_time": "2020-05-02T17:32:39.280412",
     "status": "completed"
    },
    "tags": []
   },
   "source": [
    "Define methods for creating GeoJSON and breaks files"
   ]
  },
  {
   "cell_type": "code",
   "execution_count": 13,
   "metadata": {
    "execution": {
     "iopub.execute_input": "2020-05-02T17:32:39.342138Z",
     "iopub.status.busy": "2020-05-02T17:32:39.341623Z",
     "iopub.status.idle": "2020-05-02T17:32:39.344875Z",
     "shell.execute_reply": "2020-05-02T17:32:39.344397Z"
    },
    "papermill": {
     "duration": 0.028796,
     "end_time": "2020-05-02T17:32:39.344975",
     "exception": false,
     "start_time": "2020-05-02T17:32:39.316179",
     "status": "completed"
    },
    "tags": []
   },
   "outputs": [],
   "source": [
    "def create_data(geom_by_name, pop_by_name, agg_id):\n",
    "    # GeoJSON\n",
    "    features, dates, names_found, names_not_found = gather_features_by_name(\n",
    "        geom_by_name, pop_by_name, ihme_df\n",
    "    )\n",
    "    \n",
    "    feature_collection = {\n",
    "        'type': 'FeatureCollection',\n",
    "        'features': features\n",
    "    }\n",
    "\n",
    "    \n",
    "    # Set breaks\n",
    "    ihme_config['aggregations'][agg_id]['breaks']['totals'] = compute_breaks(features)\n",
    "    ihme_config['aggregations'][agg_id]['breaks']['per_capita'] = compute_breaks(\n",
    "        features, ihme_config['aggregations'][agg_id]['per_capita_base']\n",
    "    )\n",
    "\n",
    "    return (\n",
    "        feature_collection, \n",
    "        processed_data_path('ihme-{}-data.geojson'.format(agg_id)),\n",
    "        dates, \n",
    "        names_found, \n",
    "        names_not_found\n",
    "    )"
   ]
  },
  {
   "cell_type": "markdown",
   "metadata": {
    "papermill": {
     "duration": 0.020392,
     "end_time": "2020-05-02T17:32:39.381392",
     "exception": false,
     "start_time": "2020-05-02T17:32:39.361000",
     "status": "completed"
    },
    "tags": []
   },
   "source": [
    "Create datasets."
   ]
  },
  {
   "cell_type": "code",
   "execution_count": 14,
   "metadata": {
    "execution": {
     "iopub.execute_input": "2020-05-02T17:32:39.424963Z",
     "iopub.status.busy": "2020-05-02T17:32:39.424416Z",
     "iopub.status.idle": "2020-05-02T17:35:44.710976Z",
     "shell.execute_reply": "2020-05-02T17:35:44.710162Z"
    },
    "papermill": {
     "duration": 185.310945,
     "end_time": "2020-05-02T17:35:44.711159",
     "exception": false,
     "start_time": "2020-05-02T17:32:39.400214",
     "status": "completed"
    },
    "tags": []
   },
   "outputs": [],
   "source": [
    "# For Countries\n",
    "(\n",
    "    country_feature_collection,\n",
    "    country_geojson_path,\n",
    "    country_dates, \n",
    "    country_names_found, \n",
    "    country_names_not_found\n",
    ") = create_data(country_geom_by_name, country_pop_by_name, 'country')\n",
    "\n",
    "# For Regions\n",
    "(\n",
    "    region_feature_collection,\n",
    "    region_geojson_path, \n",
    "    region_dates, \n",
    "    region_names_found, \n",
    "    region_names_not_found\n",
    ") = create_data(region_geom_by_name, region_pop_by_name, 'region')\n",
    "\n",
    "# Set the dates into the config for visualization.\n",
    "ihme_config['dates'] = sorted(list(country_dates.union(region_dates)))"
   ]
  },
  {
   "cell_type": "markdown",
   "metadata": {
    "papermill": {
     "duration": 0.017829,
     "end_time": "2020-05-02T17:35:44.747498",
     "exception": false,
     "start_time": "2020-05-02T17:35:44.729669",
     "status": "completed"
    },
    "tags": []
   },
   "source": [
    "Perform final check that we didn't miss any regions."
   ]
  },
  {
   "cell_type": "code",
   "execution_count": 15,
   "metadata": {
    "execution": {
     "iopub.execute_input": "2020-05-02T17:35:44.785165Z",
     "iopub.status.busy": "2020-05-02T17:35:44.783781Z",
     "iopub.status.idle": "2020-05-02T17:35:44.786435Z",
     "shell.execute_reply": "2020-05-02T17:35:44.786026Z"
    },
    "papermill": {
     "duration": 0.024002,
     "end_time": "2020-05-02T17:35:44.786528",
     "exception": false,
     "start_time": "2020-05-02T17:35:44.762526",
     "status": "completed"
    },
    "tags": []
   },
   "outputs": [],
   "source": [
    "# Last check that we didn't miss any regions.\n",
    "assert len(\n",
    "    (\n",
    "        region_names_not_found.union(country_names_not_found) - \n",
    "        region_names_found.union(country_names_found)\n",
    "    ) - regions_to_ignore\n",
    ") == 0"
   ]
  },
  {
   "cell_type": "markdown",
   "metadata": {
    "papermill": {
     "duration": 0.016841,
     "end_time": "2020-05-02T17:35:44.819214",
     "exception": false,
     "start_time": "2020-05-02T17:35:44.802373",
     "status": "completed"
    },
    "tags": []
   },
   "source": [
    "#### Output files"
   ]
  },
  {
   "cell_type": "code",
   "execution_count": 16,
   "metadata": {
    "execution": {
     "iopub.execute_input": "2020-05-02T17:35:44.856883Z",
     "iopub.status.busy": "2020-05-02T17:35:44.856299Z",
     "iopub.status.idle": "2020-05-02T17:35:45.261825Z",
     "shell.execute_reply": "2020-05-02T17:35:45.262282Z"
    },
    "papermill": {
     "duration": 0.426673,
     "end_time": "2020-05-02T17:35:45.262435",
     "exception": false,
     "start_time": "2020-05-02T17:35:44.835762",
     "status": "completed"
    },
    "tags": []
   },
   "outputs": [],
   "source": [
    "with open(country_geojson_path, 'w') as f:\n",
    "    f.write(json.dumps(country_feature_collection))"
   ]
  },
  {
   "cell_type": "code",
   "execution_count": 17,
   "metadata": {
    "execution": {
     "iopub.execute_input": "2020-05-02T17:35:45.389355Z",
     "iopub.status.busy": "2020-05-02T17:35:45.388628Z",
     "iopub.status.idle": "2020-05-02T17:35:46.081640Z",
     "shell.execute_reply": "2020-05-02T17:35:46.080862Z"
    },
    "papermill": {
     "duration": 0.803705,
     "end_time": "2020-05-02T17:35:46.081748",
     "exception": false,
     "start_time": "2020-05-02T17:35:45.278043",
     "status": "completed"
    },
    "tags": []
   },
   "outputs": [],
   "source": [
    "with open(region_geojson_path, 'w') as f:\n",
    "    f.write(json.dumps(region_feature_collection))"
   ]
  },
  {
   "cell_type": "code",
   "execution_count": 18,
   "metadata": {
    "execution": {
     "iopub.execute_input": "2020-05-02T17:35:46.390300Z",
     "iopub.status.busy": "2020-05-02T17:35:46.389762Z",
     "iopub.status.idle": "2020-05-02T17:35:46.396382Z",
     "shell.execute_reply": "2020-05-02T17:35:46.395983Z"
    },
    "papermill": {
     "duration": 0.298931,
     "end_time": "2020-05-02T17:35:46.396466",
     "exception": false,
     "start_time": "2020-05-02T17:35:46.097535",
     "status": "completed"
    },
    "tags": []
   },
   "outputs": [],
   "source": [
    "with open(processed_data_path('ihme-config.json'), 'w') as f:\n",
    "    f.write(json.dumps(ihme_config, indent=4))"
   ]
  },
  {
   "cell_type": "code",
   "execution_count": 19,
   "metadata": {
    "execution": {
     "iopub.execute_input": "2020-05-02T17:35:46.432888Z",
     "iopub.status.busy": "2020-05-02T17:35:46.432338Z",
     "iopub.status.idle": "2020-05-02T17:35:46.435171Z",
     "shell.execute_reply": "2020-05-02T17:35:46.434727Z"
    },
    "papermill": {
     "duration": 0.023351,
     "end_time": "2020-05-02T17:35:46.435264",
     "exception": false,
     "start_time": "2020-05-02T17:35:46.411913",
     "status": "completed"
    },
    "tags": []
   },
   "outputs": [
    {
     "data": {
      "text/plain": [
       "[0.0,\n",
       " 1.4284801209593012,\n",
       " 5.188460852534955,\n",
       " 10.354001600481798,\n",
       " 18.764712061395684,\n",
       " 33.491357246839314,\n",
       " 49.97381994898656]"
      ]
     },
     "execution_count": 19,
     "metadata": {},
     "output_type": "execute_result"
    }
   ],
   "source": [
    "ihme_config['aggregations']['country']['breaks']['per_capita']['deaths']['mean']"
   ]
  },
  {
   "cell_type": "code",
   "execution_count": 20,
   "metadata": {
    "execution": {
     "iopub.execute_input": "2020-05-02T17:35:46.473057Z",
     "iopub.status.busy": "2020-05-02T17:35:46.472574Z",
     "iopub.status.idle": "2020-05-02T17:35:46.475842Z",
     "shell.execute_reply": "2020-05-02T17:35:46.476226Z"
    },
    "papermill": {
     "duration": 0.024125,
     "end_time": "2020-05-02T17:35:46.476339",
     "exception": false,
     "start_time": "2020-05-02T17:35:46.452214",
     "status": "completed"
    },
    "tags": []
   },
   "outputs": [
    {
     "data": {
      "text/plain": [
       "[0.0,\n",
       " 0.15833467971666426,\n",
       " 0.6102492868336716,\n",
       " 1.360891383856426,\n",
       " 2.389699137901964,\n",
       " 3.9400484031017498,\n",
       " 10.983759726689824]"
      ]
     },
     "execution_count": 20,
     "metadata": {},
     "output_type": "execute_result"
    }
   ],
   "source": [
    "ihme_config['aggregations']['region']['breaks']['per_capita']['deaths']['mean']"
   ]
  },
  {
   "cell_type": "code",
   "execution_count": 21,
   "metadata": {
    "execution": {
     "iopub.execute_input": "2020-05-02T17:35:46.515122Z",
     "iopub.status.busy": "2020-05-02T17:35:46.514702Z",
     "iopub.status.idle": "2020-05-02T17:35:46.518437Z",
     "shell.execute_reply": "2020-05-02T17:35:46.517981Z"
    },
    "papermill": {
     "duration": 0.02621,
     "end_time": "2020-05-02T17:35:46.518528",
     "exception": false,
     "start_time": "2020-05-02T17:35:46.492318",
     "status": "completed"
    },
    "tags": []
   },
   "outputs": [
    {
     "data": {
      "text/plain": [
       "[0.0, 18.293, 70.0, 180.0, 372.0, 645.0, 1061.0]"
      ]
     },
     "execution_count": 21,
     "metadata": {},
     "output_type": "execute_result"
    }
   ],
   "source": [
    "ihme_config['aggregations']['region']['breaks']['totals']['deaths']['mean']"
   ]
  },
  {
   "cell_type": "code",
   "execution_count": null,
   "metadata": {
    "papermill": {
     "duration": 0.016726,
     "end_time": "2020-05-02T17:35:46.552248",
     "exception": false,
     "start_time": "2020-05-02T17:35:46.535522",
     "status": "completed"
    },
    "tags": []
   },
   "outputs": [],
   "source": []
  }
 ],
 "metadata": {
  "kernelspec": {
   "display_name": "Python 3",
   "language": "python",
   "name": "python3"
  },
  "language_info": {
   "codemirror_mode": {
    "name": "ipython",
    "version": 3
   },
   "file_extension": ".py",
   "mimetype": "text/x-python",
   "name": "python",
   "nbconvert_exporter": "python",
   "pygments_lexer": "ipython3",
   "version": "3.8.2"
  },
  "papermill": {
   "duration": 203.459871,
   "end_time": "2020-05-02T17:35:46.676189",
   "environment_variables": {},
   "exception": null,
   "input_path": "notebooks/processing/Process_IHME_data.ipynb",
   "output_path": "notebook-logs/processing/Process_IHME_data.ipynb",
   "parameters": {},
   "start_time": "2020-05-02T17:32:23.216318",
   "version": "2.1.1"
  }
 },
 "nbformat": 4,
 "nbformat_minor": 4
}